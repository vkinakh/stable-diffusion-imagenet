{
 "cells": [
  {
   "cell_type": "code",
   "execution_count": 13,
   "id": "abb40b79",
   "metadata": {},
   "outputs": [],
   "source": [
    "from pathlib import Path\n",
    "\n",
    "import cv2\n",
    "\n",
    "import torch\n",
    "from torchvision import utils\n",
    "from einops import rearrange"
   ]
  },
  {
   "cell_type": "code",
   "execution_count": 14,
   "id": "87bbc71f",
   "metadata": {},
   "outputs": [],
   "source": [
    "def split_into_patches(img: torch.Tensor,\n",
    "                       n_h: int,\n",
    "                       n_w: int) -> torch.Tensor:\n",
    "    \"\"\"Splits image into patches\n",
    "    \n",
    "    Args:\n",
    "        img: image to split into patches, should be of the shape (B, C, H, W)\n",
    "        n_h: number of vertical patches\n",
    "        n_w: number of horizontal patches\n",
    "\n",
    "    Returns:\n",
    "        torch.Tensor: image split into patches. Output shape: (B, n_h * n_w, C, H, W)\n",
    "    \"\"\"\n",
    "\n",
    "    *_, h, w = img.shape\n",
    "\n",
    "    hp = h // n_h\n",
    "    wp = w // n_w\n",
    "    patches = img.unfold(2, hp, wp).unfold(3, hp, wp)\n",
    "    patches = rearrange(patches, 'b c c1 c2 h w -> b (c1 c2) c h w')\n",
    "    return patches"
   ]
  },
  {
   "cell_type": "code",
   "execution_count": 15,
   "id": "9e6c35fd",
   "metadata": {},
   "outputs": [],
   "source": [
    "n = 4"
   ]
  },
  {
   "cell_type": "code",
   "execution_count": 16,
   "id": "595cdb88",
   "metadata": {},
   "outputs": [],
   "source": [
    "path = Path('/home/kinakh/Downloads/SD_gen_images')"
   ]
  },
  {
   "cell_type": "code",
   "execution_count": 20,
   "id": "bda61004",
   "metadata": {},
   "outputs": [
    {
     "name": "stdout",
     "output_type": "stream",
     "text": [
      "torch.Size([16, 3, 128, 128])\n",
      "torch.Size([16, 3, 128, 128])\n",
      "torch.Size([16, 3, 128, 128])\n",
      "torch.Size([16, 3, 128, 128])\n",
      "torch.Size([16, 3, 128, 128])\n",
      "torch.Size([16, 3, 128, 128])\n",
      "torch.Size([16, 3, 128, 128])\n",
      "torch.Size([16, 3, 128, 128])\n",
      "torch.Size([16, 3, 128, 128])\n",
      "torch.Size([16, 3, 128, 128])\n",
      "torch.Size([16, 3, 128, 128])\n",
      "torch.Size([16, 3, 128, 128])\n",
      "torch.Size([16, 3, 128, 128])\n",
      "torch.Size([16, 3, 128, 128])\n",
      "torch.Size([16, 3, 128, 128])\n",
      "torch.Size([16, 3, 128, 128])\n",
      "torch.Size([16, 3, 128, 128])\n",
      "torch.Size([16, 3, 128, 128])\n",
      "torch.Size([16, 3, 128, 128])\n",
      "torch.Size([16, 3, 128, 128])\n",
      "torch.Size([16, 3, 128, 128])\n",
      "torch.Size([16, 3, 128, 128])\n",
      "torch.Size([16, 3, 128, 128])\n",
      "torch.Size([16, 3, 128, 128])\n",
      "torch.Size([16, 3, 128, 128])\n",
      "torch.Size([16, 3, 128, 128])\n",
      "torch.Size([16, 3, 128, 128])\n",
      "torch.Size([16, 3, 128, 128])\n",
      "torch.Size([16, 3, 128, 128])\n",
      "torch.Size([16, 3, 128, 128])\n",
      "torch.Size([16, 3, 128, 128])\n",
      "torch.Size([16, 3, 128, 128])\n",
      "torch.Size([16, 3, 128, 128])\n",
      "torch.Size([16, 3, 128, 128])\n",
      "torch.Size([16, 3, 128, 128])\n",
      "torch.Size([16, 3, 128, 128])\n",
      "torch.Size([16, 3, 128, 128])\n",
      "torch.Size([16, 3, 128, 128])\n",
      "torch.Size([16, 3, 128, 128])\n",
      "torch.Size([16, 3, 128, 128])\n",
      "torch.Size([16, 3, 128, 128])\n",
      "torch.Size([16, 3, 128, 128])\n",
      "torch.Size([16, 3, 128, 128])\n",
      "torch.Size([16, 3, 128, 128])\n",
      "torch.Size([16, 3, 128, 128])\n",
      "torch.Size([16, 3, 128, 128])\n",
      "torch.Size([16, 3, 128, 128])\n",
      "torch.Size([16, 3, 128, 128])\n",
      "torch.Size([16, 3, 128, 128])\n",
      "torch.Size([16, 3, 128, 128])\n",
      "torch.Size([16, 3, 128, 128])\n",
      "torch.Size([16, 3, 128, 128])\n",
      "torch.Size([16, 3, 128, 128])\n",
      "torch.Size([16, 3, 128, 128])\n",
      "torch.Size([16, 3, 128, 128])\n",
      "torch.Size([16, 3, 128, 128])\n",
      "torch.Size([16, 3, 128, 128])\n",
      "torch.Size([16, 3, 128, 128])\n",
      "torch.Size([16, 3, 128, 128])\n",
      "torch.Size([16, 3, 128, 128])\n",
      "torch.Size([16, 3, 128, 128])\n",
      "torch.Size([16, 3, 128, 128])\n",
      "torch.Size([16, 3, 128, 128])\n",
      "torch.Size([16, 3, 128, 128])\n",
      "torch.Size([16, 3, 128, 128])\n",
      "torch.Size([16, 3, 128, 128])\n",
      "torch.Size([16, 3, 128, 128])\n",
      "torch.Size([16, 3, 128, 128])\n",
      "torch.Size([16, 3, 128, 128])\n",
      "torch.Size([16, 3, 128, 128])\n",
      "torch.Size([16, 3, 128, 128])\n",
      "torch.Size([16, 3, 128, 128])\n",
      "torch.Size([16, 3, 128, 128])\n",
      "torch.Size([16, 3, 128, 128])\n"
     ]
    }
   ],
   "source": [
    "for im_path in path.glob('*.png'):\n",
    "    im = cv2.imread(str(im_path))\n",
    "    im = cv2.cvtColor(im, cv2.COLOR_BGR2RGB)\n",
    "    im = im / 255.\n",
    "    \n",
    "    im = im.transpose(2, 0, 1)\n",
    "    im_t = torch.from_numpy(im).unsqueeze(0)\n",
    "    \n",
    "    im_pathches = split_into_patches(im_t, n,n).squeeze()\n",
    "    params = dict(nrow=n, normalize=True, valuerange=(0, 1))\n",
    "    \n",
    "    outpath = im_path.parent / f'{im_path.stem}_patches.png'\n",
    "    utils.save_image(\n",
    "        im_pathches, \n",
    "        outpath,\n",
    "        **params\n",
    "    )"
   ]
  },
  {
   "cell_type": "code",
   "execution_count": null,
   "id": "fd87dc94",
   "metadata": {},
   "outputs": [],
   "source": []
  }
 ],
 "metadata": {
  "kernelspec": {
   "display_name": "Python 3",
   "language": "python",
   "name": "python3"
  },
  "language_info": {
   "codemirror_mode": {
    "name": "ipython",
    "version": 3
   },
   "file_extension": ".py",
   "mimetype": "text/x-python",
   "name": "python",
   "nbconvert_exporter": "python",
   "pygments_lexer": "ipython3",
   "version": "3.10.4"
  }
 },
 "nbformat": 4,
 "nbformat_minor": 5
}
