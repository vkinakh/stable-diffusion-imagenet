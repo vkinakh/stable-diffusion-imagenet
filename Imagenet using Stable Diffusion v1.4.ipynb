{
 "cells": [
  {
   "cell_type": "markdown",
   "id": "9bbdf34c",
   "metadata": {
    "pycharm": {
     "name": "#%% md\n"
    }
   },
   "source": [
    "# Imagenet generation using **Stable Diffusion** v1.4 🎨 \n",
    "*...using `🧨diffusers`*\n",
    "\n",
    "Stable Diffusion is a text-to-image latent diffusion model created by the researchers and engineers from [CompVis](https://github.com/CompVis), [Stability AI](https://stability.ai/) and [LAION](https://laion.ai/). It's trained on 512x512 images from a subset of the [LAION-5B](https://laion.ai/blog/laion-5b/) database. This model uses a frozen CLIP ViT-L/14 text encoder to condition the model on text prompts. With its 860M UNet and 123M text encoder, the model is relatively lightweight and runs on a GPU with at least 10GB VRAM.\n",
    "\n",
    "This Notebook shows my experiment with generation of Imagenet-like dataset using Stable Diffusion from Hugging Face [🧨 Diffusers library](https://github.com/huggingface/diffusers)"
   ]
  },
  {
   "cell_type": "markdown",
   "id": "12902ca0",
   "metadata": {
    "pycharm": {
     "name": "#%% md\n"
    }
   },
   "source": [
    "First, install `diffusers==0.2.4` as well `scipy`, `ftfy` and `transformers`"
   ]
  },
  {
   "cell_type": "code",
   "execution_count": null,
   "id": "74aef221",
   "metadata": {
    "pycharm": {
     "name": "#%%\n"
    }
   },
   "outputs": [],
   "source": [
    "!pip install diffusers==0.2.4\n",
    "!pip install transformers scipy ftfy"
   ]
  },
  {
   "cell_type": "markdown",
   "id": "8e3e9827",
   "metadata": {
    "pycharm": {
     "name": "#%% md\n"
    }
   },
   "source": [
    "Login into huggingface hub"
   ]
  },
  {
   "cell_type": "code",
   "execution_count": null,
   "id": "3e8009cc",
   "metadata": {
    "pycharm": {
     "name": "#%%\n"
    }
   },
   "outputs": [],
   "source": [
    "from huggingface_hub import notebook_login\n",
    "notebook_login()"
   ]
  },
  {
   "cell_type": "markdown",
   "id": "8f2c6ddc",
   "metadata": {
    "pycharm": {
     "name": "#%% md\n"
    }
   },
   "source": [
    "## Stable Diffusion pipeline"
   ]
  },
  {
   "cell_type": "code",
   "execution_count": null,
   "id": "36eb13ad",
   "metadata": {
    "pycharm": {
     "name": "#%%\n"
    }
   },
   "outputs": [],
   "source": [
    "import torch\n",
    "from diffusers import StableDiffusionPipeline\n",
    "pipe = StableDiffusionPipeline.from_pretrained(\"CompVis/stable-diffusion-v1-4\", revision=\"fp16\", \n",
    "                                               torch_dtype=torch.float16, use_auth_token=True)  \n",
    "pipe = pipe.to('cuda')"
   ]
  },
  {
   "cell_type": "markdown",
   "id": "8a9c907d",
   "metadata": {
    "pycharm": {
     "name": "#%% md\n"
    }
   },
   "source": [
    "Get Imagenet classes"
   ]
  },
  {
   "cell_type": "code",
   "execution_count": null,
   "id": "a3b97227",
   "metadata": {
    "pycharm": {
     "name": "#%%\n"
    }
   },
   "outputs": [],
   "source": [
    "with open('imagenet_idx_to_class.txt', 'r') as f:\n",
    "    id_to_class = eval(f.read())"
   ]
  },
  {
   "cell_type": "markdown",
   "id": "b86c5258",
   "metadata": {
    "pycharm": {
     "name": "#%% md\n"
    }
   },
   "source": [
    "Output directory"
   ]
  },
  {
   "cell_type": "code",
   "execution_count": null,
   "id": "2196cead",
   "metadata": {
    "pycharm": {
     "name": "#%%\n"
    }
   },
   "outputs": [],
   "source": [
    "from pathlib import Path\n",
    "\n",
    "out_dir = Path('./imagenet')\n",
    "out_dir.mkdir(exist_ok=True, parents=True)"
   ]
  },
  {
   "cell_type": "markdown",
   "id": "d5236ba8",
   "metadata": {
    "pycharm": {
     "name": "#%% md\n"
    }
   },
   "source": [
    "Generate images"
   ]
  },
  {
   "cell_type": "code",
   "execution_count": null,
   "id": "ed9c41ed",
   "metadata": {
    "pycharm": {
     "name": "#%%\n"
    }
   },
   "outputs": [],
   "source": [
    "# count percentage of NSFW\n",
    "n_total = 0\n",
    "n_nsfw = 0"
   ]
  },
  {
   "cell_type": "code",
   "execution_count": null,
   "id": "696a9403",
   "metadata": {
    "pycharm": {
     "name": "#%%\n"
    }
   },
   "outputs": [],
   "source": [
    "import random\n",
    "from torch import autocast\n",
    "\n",
    "n_img_per_class = 5\n",
    "\n",
    "for key, val in id_to_class.items():\n",
    "    prompt = f'a photo of {val}, realistic, high quality, imagenet'\n",
    "    \n",
    "    for i in range(n_img_per_class):\n",
    "        seed = random.randint(0, 10000)\n",
    "        with autocast(\"cuda\"):\n",
    "            generator = torch.Generator(\"cuda\").manual_seed(seed)    \n",
    "            out = pipe(prompt, generator=generator)\n",
    "            \n",
    "        image = out[\"sample\"][0]\n",
    "        nsfw = out['nsfw_content_detected'][0]\n",
    "            \n",
    "        n_total += 1\n",
    "        n_nsfw += int(nsfw)\n",
    "        \n",
    "        outpath = out_dir / f'{key}_{i}_seed_{seed}_nsfw_{nsfw}.jpg'\n",
    "        image.save(outpath)"
   ]
  },
  {
   "cell_type": "code",
   "execution_count": null,
   "id": "89b20672",
   "metadata": {
    "pycharm": {
     "name": "#%%\n"
    }
   },
   "outputs": [],
   "source": [
    "print(f'Percentage of NSFW images: {n_nsfw / n_total * 100:.2f} %')"
   ]
  }
 ],
 "metadata": {
  "kernelspec": {
   "display_name": "Python 3",
   "language": "python",
   "name": "python3"
  },
  "language_info": {
   "codemirror_mode": {
    "name": "ipython",
    "version": 3
   },
   "file_extension": ".py",
   "mimetype": "text/x-python",
   "name": "python",
   "nbconvert_exporter": "python",
   "pygments_lexer": "ipython3",
   "version": "3.10.4"
  }
 },
 "nbformat": 4,
 "nbformat_minor": 5
}